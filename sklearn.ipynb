{
 "cells": [
  {
   "cell_type": "code",
   "execution_count": 31,
   "outputs": [
    {
     "name": "stderr",
     "output_type": "stream",
     "text": [
      "C:\\Users\\YRJ\\AppData\\Local\\Temp\\ipykernel_87192\\1135372156.py:10: DeprecationWarning: Importing display from IPython.core.display is deprecated since IPython 7.14, please import from IPython display\n",
      "  from IPython.core.display import display, HTML\n"
     ]
    },
    {
     "data": {
      "text/plain": "   fixed acidity  volatile acidity  citric acid  residual sugar  chlorides  \\\n0            7.4              0.70         0.00             1.9      0.076   \n1            7.8              0.88         0.00             2.6      0.098   \n2            7.8              0.76         0.04             2.3      0.092   \n3           11.2              0.28         0.56             1.9      0.075   \n4            7.4              0.70         0.00             1.9      0.076   \n\n   free sulfur dioxide  total sulfur dioxide  density    pH  sulphates  \\\n0                 11.0                  34.0   0.9978  3.51       0.56   \n1                 25.0                  67.0   0.9968  3.20       0.68   \n2                 15.0                  54.0   0.9970  3.26       0.65   \n3                 17.0                  60.0   0.9980  3.16       0.58   \n4                 11.0                  34.0   0.9978  3.51       0.56   \n\n   alcohol  quality  \n0      9.4        5  \n1      9.8        5  \n2      9.8        5  \n3      9.8        6  \n4      9.4        5  ",
      "text/html": "<div>\n<style scoped>\n    .dataframe tbody tr th:only-of-type {\n        vertical-align: middle;\n    }\n\n    .dataframe tbody tr th {\n        vertical-align: top;\n    }\n\n    .dataframe thead th {\n        text-align: right;\n    }\n</style>\n<table border=\"1\" class=\"dataframe\">\n  <thead>\n    <tr style=\"text-align: right;\">\n      <th></th>\n      <th>fixed acidity</th>\n      <th>volatile acidity</th>\n      <th>citric acid</th>\n      <th>residual sugar</th>\n      <th>chlorides</th>\n      <th>free sulfur dioxide</th>\n      <th>total sulfur dioxide</th>\n      <th>density</th>\n      <th>pH</th>\n      <th>sulphates</th>\n      <th>alcohol</th>\n      <th>quality</th>\n    </tr>\n  </thead>\n  <tbody>\n    <tr>\n      <th>0</th>\n      <td>7.4</td>\n      <td>0.70</td>\n      <td>0.00</td>\n      <td>1.9</td>\n      <td>0.076</td>\n      <td>11.0</td>\n      <td>34.0</td>\n      <td>0.9978</td>\n      <td>3.51</td>\n      <td>0.56</td>\n      <td>9.4</td>\n      <td>5</td>\n    </tr>\n    <tr>\n      <th>1</th>\n      <td>7.8</td>\n      <td>0.88</td>\n      <td>0.00</td>\n      <td>2.6</td>\n      <td>0.098</td>\n      <td>25.0</td>\n      <td>67.0</td>\n      <td>0.9968</td>\n      <td>3.20</td>\n      <td>0.68</td>\n      <td>9.8</td>\n      <td>5</td>\n    </tr>\n    <tr>\n      <th>2</th>\n      <td>7.8</td>\n      <td>0.76</td>\n      <td>0.04</td>\n      <td>2.3</td>\n      <td>0.092</td>\n      <td>15.0</td>\n      <td>54.0</td>\n      <td>0.9970</td>\n      <td>3.26</td>\n      <td>0.65</td>\n      <td>9.8</td>\n      <td>5</td>\n    </tr>\n    <tr>\n      <th>3</th>\n      <td>11.2</td>\n      <td>0.28</td>\n      <td>0.56</td>\n      <td>1.9</td>\n      <td>0.075</td>\n      <td>17.0</td>\n      <td>60.0</td>\n      <td>0.9980</td>\n      <td>3.16</td>\n      <td>0.58</td>\n      <td>9.8</td>\n      <td>6</td>\n    </tr>\n    <tr>\n      <th>4</th>\n      <td>7.4</td>\n      <td>0.70</td>\n      <td>0.00</td>\n      <td>1.9</td>\n      <td>0.076</td>\n      <td>11.0</td>\n      <td>34.0</td>\n      <td>0.9978</td>\n      <td>3.51</td>\n      <td>0.56</td>\n      <td>9.4</td>\n      <td>5</td>\n    </tr>\n  </tbody>\n</table>\n</div>"
     },
     "execution_count": 31,
     "metadata": {},
     "output_type": "execute_result"
    }
   ],
   "source": [
    "import numpy as np\n",
    "import pandas as pd\n",
    "import matplotlib.pyplot as plt\n",
    "import seaborn as sns\n",
    "from sklearn.metrics import accuracy_score\n",
    "from sklearn.metrics import mean_squared_error\n",
    "from sklearn.model_selection import cross_val_score\n",
    "from sklearn.metrics import confusion_matrix\n",
    "from collections import Counter\n",
    "from IPython.core.display import display, HTML\n",
    "sns.set_style('darkgrid')\n",
    "data = pd.read_csv('winequality-red.csv',sep=';')\n",
    "data.head()"
   ],
   "metadata": {
    "collapsed": false,
    "ExecuteTime": {
     "end_time": "2023-10-11T00:10:53.946998300Z",
     "start_time": "2023-10-11T00:10:53.865091Z"
    }
   },
   "id": "67eb1a3599f61679"
  },
  {
   "cell_type": "code",
   "execution_count": 32,
   "outputs": [],
   "source": [
    "#data.corr()"
   ],
   "metadata": {
    "collapsed": false,
    "ExecuteTime": {
     "end_time": "2023-10-11T00:10:53.951757100Z",
     "start_time": "2023-10-11T00:10:53.887324300Z"
    }
   },
   "id": "2896ac9431cd1ef9"
  },
  {
   "cell_type": "code",
   "execution_count": 33,
   "outputs": [
    {
     "name": "stdout",
     "output_type": "stream",
     "text": [
      "<class 'pandas.core.frame.DataFrame'>\n",
      "RangeIndex: 1599 entries, 0 to 1598\n",
      "Data columns (total 12 columns):\n",
      " #   Column                Non-Null Count  Dtype  \n",
      "---  ------                --------------  -----  \n",
      " 0   fixed acidity         1599 non-null   float64\n",
      " 1   volatile acidity      1599 non-null   float64\n",
      " 2   citric acid           1599 non-null   float64\n",
      " 3   residual sugar        1599 non-null   float64\n",
      " 4   chlorides             1599 non-null   float64\n",
      " 5   free sulfur dioxide   1599 non-null   float64\n",
      " 6   total sulfur dioxide  1599 non-null   float64\n",
      " 7   density               1599 non-null   float64\n",
      " 8   pH                    1599 non-null   float64\n",
      " 9   sulphates             1599 non-null   float64\n",
      " 10  alcohol               1599 non-null   float64\n",
      " 11  quality               1599 non-null   int64  \n",
      "dtypes: float64(11), int64(1)\n",
      "memory usage: 150.0 KB\n"
     ]
    }
   ],
   "source": [
    "data.info()"
   ],
   "metadata": {
    "collapsed": false,
    "ExecuteTime": {
     "end_time": "2023-10-11T00:10:54.007005Z",
     "start_time": "2023-10-11T00:10:53.902687400Z"
    }
   },
   "id": "8b334f063bf9fdca"
  },
  {
   "cell_type": "code",
   "execution_count": 34,
   "outputs": [
    {
     "data": {
      "text/plain": "(1599, 12)"
     },
     "execution_count": 34,
     "metadata": {},
     "output_type": "execute_result"
    }
   ],
   "source": [
    "data.shape"
   ],
   "metadata": {
    "collapsed": false,
    "ExecuteTime": {
     "end_time": "2023-10-11T00:10:54.008008Z",
     "start_time": "2023-10-11T00:10:53.918429900Z"
    }
   },
   "id": "8d3660513cfba522"
  },
  {
   "cell_type": "code",
   "execution_count": 35,
   "outputs": [
    {
     "data": {
      "text/plain": "       fixed acidity  volatile acidity  citric acid  residual sugar  \\\ncount    1599.000000       1599.000000  1599.000000     1599.000000   \nmean        8.319637          0.527821     0.270976        2.538806   \nstd         1.741096          0.179060     0.194801        1.409928   \nmin         4.600000          0.120000     0.000000        0.900000   \n25%         7.100000          0.390000     0.090000        1.900000   \n50%         7.900000          0.520000     0.260000        2.200000   \n75%         9.200000          0.640000     0.420000        2.600000   \nmax        15.900000          1.580000     1.000000       15.500000   \n\n         chlorides  free sulfur dioxide  total sulfur dioxide      density  \\\ncount  1599.000000          1599.000000           1599.000000  1599.000000   \nmean      0.087467            15.874922             46.467792     0.996747   \nstd       0.047065            10.460157             32.895324     0.001887   \nmin       0.012000             1.000000              6.000000     0.990070   \n25%       0.070000             7.000000             22.000000     0.995600   \n50%       0.079000            14.000000             38.000000     0.996750   \n75%       0.090000            21.000000             62.000000     0.997835   \nmax       0.611000            72.000000            289.000000     1.003690   \n\n                pH    sulphates      alcohol      quality  \ncount  1599.000000  1599.000000  1599.000000  1599.000000  \nmean      3.311113     0.658149    10.422983     5.636023  \nstd       0.154386     0.169507     1.065668     0.807569  \nmin       2.740000     0.330000     8.400000     3.000000  \n25%       3.210000     0.550000     9.500000     5.000000  \n50%       3.310000     0.620000    10.200000     6.000000  \n75%       3.400000     0.730000    11.100000     6.000000  \nmax       4.010000     2.000000    14.900000     8.000000  ",
      "text/html": "<div>\n<style scoped>\n    .dataframe tbody tr th:only-of-type {\n        vertical-align: middle;\n    }\n\n    .dataframe tbody tr th {\n        vertical-align: top;\n    }\n\n    .dataframe thead th {\n        text-align: right;\n    }\n</style>\n<table border=\"1\" class=\"dataframe\">\n  <thead>\n    <tr style=\"text-align: right;\">\n      <th></th>\n      <th>fixed acidity</th>\n      <th>volatile acidity</th>\n      <th>citric acid</th>\n      <th>residual sugar</th>\n      <th>chlorides</th>\n      <th>free sulfur dioxide</th>\n      <th>total sulfur dioxide</th>\n      <th>density</th>\n      <th>pH</th>\n      <th>sulphates</th>\n      <th>alcohol</th>\n      <th>quality</th>\n    </tr>\n  </thead>\n  <tbody>\n    <tr>\n      <th>count</th>\n      <td>1599.000000</td>\n      <td>1599.000000</td>\n      <td>1599.000000</td>\n      <td>1599.000000</td>\n      <td>1599.000000</td>\n      <td>1599.000000</td>\n      <td>1599.000000</td>\n      <td>1599.000000</td>\n      <td>1599.000000</td>\n      <td>1599.000000</td>\n      <td>1599.000000</td>\n      <td>1599.000000</td>\n    </tr>\n    <tr>\n      <th>mean</th>\n      <td>8.319637</td>\n      <td>0.527821</td>\n      <td>0.270976</td>\n      <td>2.538806</td>\n      <td>0.087467</td>\n      <td>15.874922</td>\n      <td>46.467792</td>\n      <td>0.996747</td>\n      <td>3.311113</td>\n      <td>0.658149</td>\n      <td>10.422983</td>\n      <td>5.636023</td>\n    </tr>\n    <tr>\n      <th>std</th>\n      <td>1.741096</td>\n      <td>0.179060</td>\n      <td>0.194801</td>\n      <td>1.409928</td>\n      <td>0.047065</td>\n      <td>10.460157</td>\n      <td>32.895324</td>\n      <td>0.001887</td>\n      <td>0.154386</td>\n      <td>0.169507</td>\n      <td>1.065668</td>\n      <td>0.807569</td>\n    </tr>\n    <tr>\n      <th>min</th>\n      <td>4.600000</td>\n      <td>0.120000</td>\n      <td>0.000000</td>\n      <td>0.900000</td>\n      <td>0.012000</td>\n      <td>1.000000</td>\n      <td>6.000000</td>\n      <td>0.990070</td>\n      <td>2.740000</td>\n      <td>0.330000</td>\n      <td>8.400000</td>\n      <td>3.000000</td>\n    </tr>\n    <tr>\n      <th>25%</th>\n      <td>7.100000</td>\n      <td>0.390000</td>\n      <td>0.090000</td>\n      <td>1.900000</td>\n      <td>0.070000</td>\n      <td>7.000000</td>\n      <td>22.000000</td>\n      <td>0.995600</td>\n      <td>3.210000</td>\n      <td>0.550000</td>\n      <td>9.500000</td>\n      <td>5.000000</td>\n    </tr>\n    <tr>\n      <th>50%</th>\n      <td>7.900000</td>\n      <td>0.520000</td>\n      <td>0.260000</td>\n      <td>2.200000</td>\n      <td>0.079000</td>\n      <td>14.000000</td>\n      <td>38.000000</td>\n      <td>0.996750</td>\n      <td>3.310000</td>\n      <td>0.620000</td>\n      <td>10.200000</td>\n      <td>6.000000</td>\n    </tr>\n    <tr>\n      <th>75%</th>\n      <td>9.200000</td>\n      <td>0.640000</td>\n      <td>0.420000</td>\n      <td>2.600000</td>\n      <td>0.090000</td>\n      <td>21.000000</td>\n      <td>62.000000</td>\n      <td>0.997835</td>\n      <td>3.400000</td>\n      <td>0.730000</td>\n      <td>11.100000</td>\n      <td>6.000000</td>\n    </tr>\n    <tr>\n      <th>max</th>\n      <td>15.900000</td>\n      <td>1.580000</td>\n      <td>1.000000</td>\n      <td>15.500000</td>\n      <td>0.611000</td>\n      <td>72.000000</td>\n      <td>289.000000</td>\n      <td>1.003690</td>\n      <td>4.010000</td>\n      <td>2.000000</td>\n      <td>14.900000</td>\n      <td>8.000000</td>\n    </tr>\n  </tbody>\n</table>\n</div>"
     },
     "execution_count": 35,
     "metadata": {},
     "output_type": "execute_result"
    }
   ],
   "source": [
    "data.describe()"
   ],
   "metadata": {
    "collapsed": false,
    "ExecuteTime": {
     "end_time": "2023-10-11T00:10:54.026059600Z",
     "start_time": "2023-10-11T00:10:53.934701800Z"
    }
   },
   "id": "4f1b5c0024bd3530"
  },
  {
   "cell_type": "code",
   "execution_count": 36,
   "outputs": [
    {
     "data": {
      "text/plain": "Index(['fixed acidity', 'volatile acidity', 'citric acid', 'residual sugar',\n       'chlorides', 'free sulfur dioxide', 'total sulfur dioxide', 'density',\n       'pH', 'sulphates', 'alcohol', 'quality', 'Reviews'],\n      dtype='object')"
     },
     "execution_count": 36,
     "metadata": {},
     "output_type": "execute_result"
    }
   ],
   "source": [
    "#next we shall create a new column called Review. This column will contain the values of 1,2, and 3. \n",
    "#1 - Bad\n",
    "#2 - Average\n",
    "#3 - Excellent\n",
    "#This will be split in the following way. \n",
    "#1,2,3 --> Bad\n",
    "#4,5,6,7 --> Average\n",
    "#8,9,10 --> Excellent\n",
    "#Create an empty list called Reviews\n",
    "reviews = []\n",
    "for i in data['quality']:\n",
    "    if i >= 1 and i <= 3:\n",
    "        reviews.append('1')\n",
    "    elif i >= 4 and i <= 7:\n",
    "        reviews.append('2')\n",
    "    elif i >= 8 and i <= 10:\n",
    "        reviews.append('3')\n",
    "data['Reviews'] = reviews\n",
    "#view final data\n",
    "data.columns"
   ],
   "metadata": {
    "collapsed": false,
    "ExecuteTime": {
     "end_time": "2023-10-11T00:10:54.107528700Z",
     "start_time": "2023-10-11T00:10:53.963321300Z"
    }
   },
   "id": "af9b5a722f1fb172"
  },
  {
   "cell_type": "code",
   "execution_count": 37,
   "outputs": [
    {
     "data": {
      "text/plain": "array(['2', '3', '1'], dtype=object)"
     },
     "execution_count": 37,
     "metadata": {},
     "output_type": "execute_result"
    }
   ],
   "source": [
    "data['Reviews'].unique()"
   ],
   "metadata": {
    "collapsed": false,
    "ExecuteTime": {
     "end_time": "2023-10-11T00:10:54.125784200Z",
     "start_time": "2023-10-11T00:10:53.979448100Z"
    }
   },
   "id": "a47e35a20376f8ca"
  },
  {
   "cell_type": "code",
   "execution_count": 38,
   "outputs": [
    {
     "data": {
      "text/plain": "Counter({'2': 1571, '3': 18, '1': 10})"
     },
     "execution_count": 38,
     "metadata": {},
     "output_type": "execute_result"
    }
   ],
   "source": [
    "Counter(data['Reviews'])"
   ],
   "metadata": {
    "collapsed": false,
    "ExecuteTime": {
     "end_time": "2023-10-11T00:10:54.126802800Z",
     "start_time": "2023-10-11T00:10:53.993970500Z"
    }
   },
   "id": "4e8aed54f914e489"
  },
  {
   "cell_type": "code",
   "execution_count": 39,
   "outputs": [
    {
     "data": {
      "text/plain": "   fixed acidity  volatile acidity  citric acid  residual sugar  chlorides  \\\n0            7.4              0.70         0.00             1.9      0.076   \n1            7.8              0.88         0.00             2.6      0.098   \n2            7.8              0.76         0.04             2.3      0.092   \n3           11.2              0.28         0.56             1.9      0.075   \n4            7.4              0.70         0.00             1.9      0.076   \n5            7.4              0.66         0.00             1.8      0.075   \n6            7.9              0.60         0.06             1.6      0.069   \n7            7.3              0.65         0.00             1.2      0.065   \n8            7.8              0.58         0.02             2.0      0.073   \n9            7.5              0.50         0.36             6.1      0.071   \n\n   free sulfur dioxide  total sulfur dioxide  density    pH  sulphates  \\\n0                 11.0                  34.0   0.9978  3.51       0.56   \n1                 25.0                  67.0   0.9968  3.20       0.68   \n2                 15.0                  54.0   0.9970  3.26       0.65   \n3                 17.0                  60.0   0.9980  3.16       0.58   \n4                 11.0                  34.0   0.9978  3.51       0.56   \n5                 13.0                  40.0   0.9978  3.51       0.56   \n6                 15.0                  59.0   0.9964  3.30       0.46   \n7                 15.0                  21.0   0.9946  3.39       0.47   \n8                  9.0                  18.0   0.9968  3.36       0.57   \n9                 17.0                 102.0   0.9978  3.35       0.80   \n\n   alcohol  \n0      9.4  \n1      9.8  \n2      9.8  \n3      9.8  \n4      9.4  \n5      9.4  \n6      9.4  \n7     10.0  \n8      9.5  \n9     10.5  ",
      "text/html": "<div>\n<style scoped>\n    .dataframe tbody tr th:only-of-type {\n        vertical-align: middle;\n    }\n\n    .dataframe tbody tr th {\n        vertical-align: top;\n    }\n\n    .dataframe thead th {\n        text-align: right;\n    }\n</style>\n<table border=\"1\" class=\"dataframe\">\n  <thead>\n    <tr style=\"text-align: right;\">\n      <th></th>\n      <th>fixed acidity</th>\n      <th>volatile acidity</th>\n      <th>citric acid</th>\n      <th>residual sugar</th>\n      <th>chlorides</th>\n      <th>free sulfur dioxide</th>\n      <th>total sulfur dioxide</th>\n      <th>density</th>\n      <th>pH</th>\n      <th>sulphates</th>\n      <th>alcohol</th>\n    </tr>\n  </thead>\n  <tbody>\n    <tr>\n      <th>0</th>\n      <td>7.4</td>\n      <td>0.70</td>\n      <td>0.00</td>\n      <td>1.9</td>\n      <td>0.076</td>\n      <td>11.0</td>\n      <td>34.0</td>\n      <td>0.9978</td>\n      <td>3.51</td>\n      <td>0.56</td>\n      <td>9.4</td>\n    </tr>\n    <tr>\n      <th>1</th>\n      <td>7.8</td>\n      <td>0.88</td>\n      <td>0.00</td>\n      <td>2.6</td>\n      <td>0.098</td>\n      <td>25.0</td>\n      <td>67.0</td>\n      <td>0.9968</td>\n      <td>3.20</td>\n      <td>0.68</td>\n      <td>9.8</td>\n    </tr>\n    <tr>\n      <th>2</th>\n      <td>7.8</td>\n      <td>0.76</td>\n      <td>0.04</td>\n      <td>2.3</td>\n      <td>0.092</td>\n      <td>15.0</td>\n      <td>54.0</td>\n      <td>0.9970</td>\n      <td>3.26</td>\n      <td>0.65</td>\n      <td>9.8</td>\n    </tr>\n    <tr>\n      <th>3</th>\n      <td>11.2</td>\n      <td>0.28</td>\n      <td>0.56</td>\n      <td>1.9</td>\n      <td>0.075</td>\n      <td>17.0</td>\n      <td>60.0</td>\n      <td>0.9980</td>\n      <td>3.16</td>\n      <td>0.58</td>\n      <td>9.8</td>\n    </tr>\n    <tr>\n      <th>4</th>\n      <td>7.4</td>\n      <td>0.70</td>\n      <td>0.00</td>\n      <td>1.9</td>\n      <td>0.076</td>\n      <td>11.0</td>\n      <td>34.0</td>\n      <td>0.9978</td>\n      <td>3.51</td>\n      <td>0.56</td>\n      <td>9.4</td>\n    </tr>\n    <tr>\n      <th>5</th>\n      <td>7.4</td>\n      <td>0.66</td>\n      <td>0.00</td>\n      <td>1.8</td>\n      <td>0.075</td>\n      <td>13.0</td>\n      <td>40.0</td>\n      <td>0.9978</td>\n      <td>3.51</td>\n      <td>0.56</td>\n      <td>9.4</td>\n    </tr>\n    <tr>\n      <th>6</th>\n      <td>7.9</td>\n      <td>0.60</td>\n      <td>0.06</td>\n      <td>1.6</td>\n      <td>0.069</td>\n      <td>15.0</td>\n      <td>59.0</td>\n      <td>0.9964</td>\n      <td>3.30</td>\n      <td>0.46</td>\n      <td>9.4</td>\n    </tr>\n    <tr>\n      <th>7</th>\n      <td>7.3</td>\n      <td>0.65</td>\n      <td>0.00</td>\n      <td>1.2</td>\n      <td>0.065</td>\n      <td>15.0</td>\n      <td>21.0</td>\n      <td>0.9946</td>\n      <td>3.39</td>\n      <td>0.47</td>\n      <td>10.0</td>\n    </tr>\n    <tr>\n      <th>8</th>\n      <td>7.8</td>\n      <td>0.58</td>\n      <td>0.02</td>\n      <td>2.0</td>\n      <td>0.073</td>\n      <td>9.0</td>\n      <td>18.0</td>\n      <td>0.9968</td>\n      <td>3.36</td>\n      <td>0.57</td>\n      <td>9.5</td>\n    </tr>\n    <tr>\n      <th>9</th>\n      <td>7.5</td>\n      <td>0.50</td>\n      <td>0.36</td>\n      <td>6.1</td>\n      <td>0.071</td>\n      <td>17.0</td>\n      <td>102.0</td>\n      <td>0.9978</td>\n      <td>3.35</td>\n      <td>0.80</td>\n      <td>10.5</td>\n    </tr>\n  </tbody>\n</table>\n</div>"
     },
     "execution_count": 39,
     "metadata": {},
     "output_type": "execute_result"
    }
   ],
   "source": [
    "x = data.iloc[:,:11]\n",
    "y = data['Reviews']\n",
    "x.head(10)#显示前10行"
   ],
   "metadata": {
    "collapsed": false,
    "ExecuteTime": {
     "end_time": "2023-10-11T00:10:54.129430400Z",
     "start_time": "2023-10-11T00:10:54.010013700Z"
    }
   },
   "id": "7daf045548a31114"
  },
  {
   "cell_type": "code",
   "execution_count": 40,
   "outputs": [
    {
     "name": "stdout",
     "output_type": "stream",
     "text": [
      "[[-0.52835961  0.96187667 -1.39147228 ...  1.28864292 -0.57920652\n",
      "  -0.96024611]\n",
      " [-0.29854743  1.96744245 -1.39147228 ... -0.7199333   0.1289504\n",
      "  -0.58477711]\n",
      " [-0.29854743  1.29706527 -1.18607043 ... -0.33117661 -0.04808883\n",
      "  -0.58477711]\n",
      " ...\n",
      " [-1.1603431  -0.09955388 -0.72391627 ...  0.70550789  0.54204194\n",
      "   0.54162988]\n",
      " [-1.39015528  0.65462046 -0.77526673 ...  1.6773996   0.30598963\n",
      "  -0.20930812]\n",
      " [-1.33270223 -1.21684919  1.02199944 ...  0.51112954  0.01092425\n",
      "   0.54162988]]\n"
     ]
    }
   ],
   "source": [
    "\n",
    "from sklearn.preprocessing import StandardScaler#标准化\n",
    "sc = StandardScaler()\n",
    "x = sc.fit_transform(x)\n",
    "print(x)\n"
   ],
   "metadata": {
    "collapsed": false,
    "ExecuteTime": {
     "end_time": "2023-10-11T00:10:54.129430400Z",
     "start_time": "2023-10-11T00:10:54.037647400Z"
    }
   },
   "id": "4d922783b160faa"
  },
  {
   "cell_type": "code",
   "execution_count": 41,
   "outputs": [
    {
     "data": {
      "text/plain": "<Figure size 1000x1000 with 1 Axes>",
      "image/png": "[encoded data removed]"
     },
     "metadata": {},
     "output_type": "display_data"
    }
   ],
   "source": [
    "from sklearn.decomposition import PCA#主成分分析\n",
    "pca = PCA()\n",
    "x_pca = pca.fit_transform(x)\n",
    "#plot the graph to find the principal components\n",
    "plt.figure(figsize=(10,10))\n",
    "plt.plot(np.cumsum(pca.explained_variance_ratio_), 'ro-')#解释参数:np.cumsum(pca.explained_variance_ratio_)累计方差贡献率\n",
    "plt.grid()"
   ],
   "metadata": {
    "collapsed": false,
    "ExecuteTime": {
     "end_time": "2023-10-11T00:10:54.337175200Z",
     "start_time": "2023-10-11T00:10:54.055085Z"
    }
   },
   "id": "2fd4430f913b32b9"
  },
  {
   "cell_type": "code",
   "execution_count": 42,
   "outputs": [
    {
     "name": "stdout",
     "output_type": "stream",
     "text": [
      "[[-1.61952988  0.45095009 -1.77445415 ... -0.91392069 -0.16104319\n",
      "  -0.28225828]\n",
      " [-0.79916993  1.85655306 -0.91169017 ...  0.92971392 -1.00982858\n",
      "   0.76258697]\n",
      " [-0.74847909  0.88203886 -1.17139423 ...  0.40147313 -0.53955348\n",
      "   0.59794606]\n",
      " ...\n",
      " [-1.45612897  0.31174559  1.12423941 ... -0.50640956 -0.23108221\n",
      "   0.07938219]\n",
      " [-2.27051793  0.97979111  0.62796456 ... -0.86040762 -0.32148695\n",
      "  -0.46887589]\n",
      " [-0.42697475 -0.53669021  1.6289552  ... -0.49615364  1.18913227\n",
      "   0.04217568]]\n"
     ]
    }
   ],
   "source": [
    "pca_new = PCA(n_components=8)\n",
    "x_new = pca_new.fit_transform(x)\n",
    "print(x_new)"
   ],
   "metadata": {
    "collapsed": false,
    "ExecuteTime": {
     "end_time": "2023-10-11T00:10:54.345191Z",
     "start_time": "2023-10-11T00:10:54.241628200Z"
    }
   },
   "id": "9f827729a7052509"
  },
  {
   "cell_type": "code",
   "execution_count": 43,
   "outputs": [
    {
     "name": "stdout",
     "output_type": "stream",
     "text": [
      "(1199, 8)\n",
      "(400, 8)\n",
      "(1199,)\n",
      "(400,)\n"
     ]
    }
   ],
   "source": [
    "#split the data into train and test\n",
    "%%script false\n",
    "from sklearn.model_selection import train_test_split\n",
    "x_train,x_test,y_train,y_test = train_test_split(x_new,y,test_size=0.25,random_state=0)\n",
    "print(x_train.shape)\n",
    "print(x_test.shape)\n",
    "print(y_train.shape)\n",
    "print(y_test.shape)"
   ],
   "metadata": {
    "collapsed": false,
    "ExecuteTime": {
     "end_time": "2023-10-11T00:10:54.360666Z",
     "start_time": "2023-10-11T00:10:54.256240400Z"
    }
   },
   "id": "b68b67687d6b202b"
  },
  {
   "cell_type": "code",
   "execution_count": 44,
   "outputs": [
    {
     "name": "stdout",
     "output_type": "stream",
     "text": [
      "(1200, 8)\n",
      "(399, 8)\n",
      "(1200,)\n",
      "(399,)\n",
      "0.005012531328320802\n"
     ]
    }
   ],
   "source": [
    "%%script false\n",
    "import numpy as np\n",
    "\n",
    "# 定义自定义函数 train_test_split 进行训练集和测试集划分\n",
    "def train_test_split(X, y, test_size=0.25, random_state=None):\n",
    "    np.random.seed(random_state)\n",
    "    shuffled_indices = np.random.permutation(len(X))\n",
    "    test_set_size = int(len(X) * test_size)\n",
    "    test_indices = shuffled_indices[:test_set_size]\n",
    "    train_indices = shuffled_indices[test_set_size:]\n",
    "    X_train = X[train_indices]\n",
    "    X_test = X[test_indices]\n",
    "    y_train = y[train_indices]\n",
    "    y_test = y[test_indices]\n",
    "    return X_train, X_test, y_train, y_test\n",
    "\n",
    "# 定义自定义函数 LogisticRegression 进行 Logistic 回归训练和预测\n",
    "class LogisticRegression:\n",
    "    def __init__(self, lr=0.1, num_iterations=3000):\n",
    "        self.lr = lr\n",
    "        self.num_iterations = num_iterations\n",
    "        self.theta = None\n",
    "\n",
    "    def sigmoid(self, z):\n",
    "        return 1 / (1 + np.exp(-z))\n",
    "\n",
    "    def fit(self, X, y):\n",
    "        m, n = X.shape\n",
    "        X = np.concatenate((np.ones((m, 1)), X), axis=1)#np.ones((m, 1))创建一个m行1列的矩阵，np.concatenate((np.ones((m, 1)), X), axis=1)将两个矩阵进行拼接\n",
    "        self.theta = np.zeros(n + 1)\n",
    "\n",
    "        for _ in range(self.num_iterations):\n",
    "            z = np.dot(X, self.theta)\n",
    "            h = self.sigmoid(z)\n",
    "            gradient = np.dot(X.T, (h - y)) / m\n",
    "            self.theta -= self.lr * gradient\n",
    "\n",
    "    def predict(self, X):\n",
    "        m, n = X.shape\n",
    "        X = np.concatenate((np.ones((m, 1)), X), axis=1)\n",
    "        z = np.dot(X, self.theta)\n",
    "        h = self.sigmoid(z)\n",
    "        y_pred = np.round(h)\n",
    "        return y_pred\n",
    "\n",
    "# 加载数据集，这里假设 x_new 和 y 已经加载好了\n",
    "# 将 y 转换为数字类型\n",
    "y = y.astype(float)\n",
    "# 使用自定义函数 train_test_split 进行训练集和测试集划分\n",
    "x_train, x_test, y_train, y_test = train_test_split(x_new, y, test_size=0.25, random_state=0)\n",
    "print(x_train.shape)\n",
    "print(x_test.shape)\n",
    "print(y_train.shape)\n",
    "print(y_test.shape)\n",
    "# 创建 LogisticRegression 对象\n",
    "lr = LogisticRegression()\n",
    "\n",
    "# 在训练集上训练 Logistic 回归模型\n",
    "lr.fit(x_train, y_train)\n",
    "\n",
    "# 在测试集上进行预测\n",
    "y_pred = lr.predict(x_test)\n",
    "\n",
    "# 计算准确率\n",
    "def accuracy_score(y_true, y_pred):\n",
    "    return np.mean(y_true == y_pred)\n",
    "\n",
    "lr_acc = accuracy_score(y_test, y_pred)\n",
    "print(lr_acc)"
   ],
   "metadata": {
    "collapsed": false,
    "ExecuteTime": {
     "end_time": "2023-10-11T00:10:54.612410600Z",
     "start_time": "2023-10-11T00:10:54.286185500Z"
    }
   },
   "id": "3a8ee2e389ad6757"
  },
  {
   "cell_type": "code",
   "execution_count": 45,
   "outputs": [
    {
     "name": "stdout",
     "output_type": "stream",
     "text": [
      "98.24561403508771\n",
      "[[  0   2   0]\n",
      " [  0 392   0]\n",
      " [  0   5   0]]\n",
      "98.24561403508771\n"
     ]
    }
   ],
   "source": [
    "#Logistic Regression\n",
    "%%script false\n",
    "from sklearn.linear_model import LogisticRegression\n",
    "from sklearn.metrics import accuracy_score\n",
    "lr = LogisticRegression()\n",
    "lr.fit(x_train,y_train)\n",
    "lr_predict = lr.predict(x_test)\n",
    "accuracy = lr.score(x_test,y_test)\n",
    "print(accuracy*100)\n",
    "#计算准确率\n",
    "lr_conf_matrix = confusion_matrix(y_test, lr_predict)\n",
    "lr_acc_score = accuracy_score(y_test, lr_predict)\n",
    "print(lr_conf_matrix)\n",
    "print(lr_acc_score*100)"
   ],
   "metadata": {
    "collapsed": false,
    "ExecuteTime": {
     "end_time": "2023-10-11T00:10:54.692702800Z",
     "start_time": "2023-10-11T00:10:54.603701200Z"
    }
   },
   "id": "ebc78f865761ac66"
  },
  {
   "cell_type": "code",
   "execution_count": 14,
   "outputs": [
    {
     "ename": "TypeError",
     "evalue": "'_csv.reader' object is not subscriptable",
     "output_type": "error",
     "traceback": [
      "\u001B[1;31m---------------------------------------------------------------------------\u001B[0m",
      "\u001B[1;31mTypeError\u001B[0m                                 Traceback (most recent call last)",
      "Cell \u001B[1;32mIn[14], line 151\u001B[0m\n\u001B[0;32m    149\u001B[0m \u001B[38;5;66;03m#针对colicTest()的测试函数\u001B[39;00m\n\u001B[0;32m    150\u001B[0m \u001B[38;5;28;01mif\u001B[39;00m \u001B[38;5;18m__name__\u001B[39m \u001B[38;5;241m==\u001B[39m \u001B[38;5;124m'\u001B[39m\u001B[38;5;124m__main__\u001B[39m\u001B[38;5;124m'\u001B[39m:\n\u001B[1;32m--> 151\u001B[0m     \u001B[43mcolicTest\u001B[49m\u001B[43m(\u001B[49m\u001B[43m)\u001B[49m\n",
      "Cell \u001B[1;32mIn[14], line 98\u001B[0m, in \u001B[0;36mcolicTest\u001B[1;34m()\u001B[0m\n\u001B[0;32m     95\u001B[0m \u001B[38;5;66;03m# trainingLabels = []\u001B[39;00m\n\u001B[0;32m     96\u001B[0m  \u001B[38;5;66;03m#创建一个十元标签的列表用于存储训练集的10个标签\u001B[39;00m\n\u001B[0;32m     97\u001B[0m  class_y \u001B[38;5;241m=\u001B[39m np\u001B[38;5;241m.\u001B[39mzeros((numTrain,\u001B[38;5;241m10\u001B[39m))\n\u001B[1;32m---> 98\u001B[0m  lineArr \u001B[38;5;241m=\u001B[39m [\u001B[38;5;28mfloat\u001B[39m(value) \u001B[38;5;28;01mfor\u001B[39;00m value \u001B[38;5;129;01min\u001B[39;00m \u001B[43mcsvReader\u001B[49m\u001B[43m[\u001B[49m\u001B[38;5;241;43m0\u001B[39;49m\u001B[43m]\u001B[49m[:\u001B[38;5;241m11\u001B[39m]]\n\u001B[0;32m     99\u001B[0m  trainingSet\u001B[38;5;241m.\u001B[39mappend(lineArr)\n\u001B[0;32m    100\u001B[0m  \u001B[38;5;66;03m#针对不同特征进行0-1映射:针对第i个样本的数据，如果标签行（11）的标签为j，这设其对应的class_y[i][j]为1，其余为0\u001B[39;00m\n",
      "\u001B[1;31mTypeError\u001B[0m: '_csv.reader' object is not subscriptable"
     ]
    }
   ],
   "source": [
    "#重新定义LogisticRegression  \n",
    "%%script false\n",
    "def loadDataSet():\n",
    "    dataMAT = []; labelMAT = []\n",
    "    fr = open('winequality-red.csv')\n",
    "    for line in fr.readlines():\n",
    "        lineArr = line.strip().split(';')\n",
    "        dataMAT.append([float(lineArr[0]), float(lineArr[1]), float(lineArr[2]), float(lineArr[3]), float(lineArr[4]), float(lineArr[5]), float(lineArr[6]), float(lineArr[7]), float(lineArr[8]), float(lineArr[9]), float(lineArr[10])])#可能不添加最后两个特征\n",
    "        labelMAT.append(float(lineArr[11]))\n",
    "    return dataMAT,labelMAT\n",
    "\n",
    "def sigmoid(inX):\n",
    "    return 1.0/(1+np.exp(-inX))\n",
    "\n",
    "def gradAscent(dataMAT, labelMAT):#梯度上升\n",
    "    dataMatrix = np.mat(dataMAT)\n",
    "    labelMatrix = np.mat(labelMAT).transpose()\n",
    "    m,n = np.shape(dataMatrix)\n",
    "    alpha = 0.001\n",
    "    maxCycles = 500\n",
    "    weights = np.ones((n,1))\n",
    "    for k in range(maxCycles):\n",
    "        h = sigmoid(dataMatrix*weights)\n",
    "        error = (labelMatrix - h)\n",
    "        weights = weights + alpha * dataMatrix.transpose()* error\n",
    "    return weights\n",
    "\n",
    "def stocGradAscent(dataMAT, labelMAT):#随机梯度上升\n",
    "    m,n = np.shape(dataMAT)\n",
    "    alpha = 0.01#alpha是向目标移动的步长\n",
    "    weights = np.ones(n)#initialize to all ones\n",
    "    for i in range(m):\n",
    "        h = sigmoid(sum(dataMAT[i]*weights))\n",
    "        error = labelMAT[i] - h#意义是:真实类别与预测类别之间的差值\n",
    "        weights = weights + alpha * error * dataMAT[i]\n",
    "    return weights\n",
    "\n",
    "def stocGradAscent1(dataMAT, labelMAT, numIter=150):#改进的随机梯度上升\n",
    "    m,n = np.shape(dataMAT)\n",
    "    weights = np.ones(n)   #initialize to all ones\n",
    "    for j in range(numIter):\n",
    "        dataIndex = list(range(m))\n",
    "        for i in range(m):\n",
    "            alpha = 4/(1.0+j+i)+0.01    #apha decreases with iteration, does not \n",
    "            randIndex = int(np.random.uniform(0,len(dataIndex)))#go to 0 because of the constant\n",
    "            h = sigmoid(sum(dataMAT[randIndex]*weights))\n",
    "            error = labelMAT[randIndex] - h\n",
    "            weights = weights + alpha * error * dataMAT[randIndex]\n",
    "            del(dataIndex[randIndex])\n",
    "    return weights\n",
    "\n",
    "def classifyVector(inX, weights):\n",
    "    prob = sigmoid(sum(inX*weights))\n",
    "    if prob > 0.5: return 1.0\n",
    "    else: return 0.0\n",
    "\n",
    "'''\n",
    "def colicTest():\n",
    "    frTrain = open('winequality-red.csv'); frTest = open('winequality-red.csv')\n",
    "    \n",
    "    trainingSet = []; trainingLabels = []\n",
    "    for line in frTrain.readlines():\n",
    "        currLine = line.strip().split(';')\n",
    "        lineArr =[]\n",
    "        for i in range(11):\n",
    "            lineArr.append(float(currLine[i]))\n",
    "        trainingSet.append(lineArr)\n",
    "        trainingLabels.append(float(currLine[11]))\n",
    "    trainWeights = stocGradAscent1(np.array(trainingSet), trainingLabels, 500)\n",
    "    errorCount = 0; numTestVec = 0.0\n",
    "    for line in frTest.readlines():\n",
    "        numTestVec += 1.0\n",
    "        currLine = line.strip().split(';')\n",
    "        lineArr =[]\n",
    "        for i in range(11):\n",
    "            lineArr.append(float(currLine[i]))\n",
    "        if int(classifyVector(np.array(lineArr), trainWeights))!= int(currLine[11]):\n",
    "            errorCount += 1\n",
    "    errorRate = (float(errorCount)/numTestVec)\n",
    "    print (\"the error rate of this test is: %f\" % errorRate)\n",
    "    return errorRate\n",
    "'''\n",
    "import pandas as pd\n",
    "import numpy as np\n",
    "\n",
    "def colicTest():\n",
    "'''\n",
    "    frTrain = open('winequality-red-train.csv')\n",
    "    frTest = open('winequality-red-test.csv')\n",
    "    #读取数据的组数\n",
    "    numTrain = len(frTrain.readlines())\n",
    "    linecounter = 0\n",
    "    # 使用csv模块打开CSV文件并跳过第一行\n",
    "    csvReader = csv.reader(frTrain, delimiter=';')\n",
    "    #next(csvReader)  # 跳过第一行  \n",
    "    trainingSet = []\n",
    "   # trainingLabels = []\n",
    "    #创建一个十元标签的列表用于存储训练集的10个标签\n",
    "    class_y = np.zeros((numTrain,10))\n",
    "    lineArr = [float(value) for value in csvReader[0][:11]]\n",
    "    trainingSet.append(lineArr)\n",
    "    #针对不同特征进行0-1映射:针对第i个样本的数据，如果标签行（11）的标签为j，这设其对应的class_y[i][j]为1，其余为0\n",
    "    for row in csvReader:\n",
    "        lineArr = [float(value) for value in row[:11]]\n",
    "        trainingSet.append(lineArr)\n",
    "        linelabel = int(row[11])\n",
    "        class_y[linecounter][linelabel]=1\n",
    "        linecounter+=1\n",
    "    #print(trainingSet[1])\n",
    "    '''\n",
    "'''\n",
    "    for row in csvReader:\n",
    "        lineArr = [float(value) for value in row[:11]]\n",
    "        trainingSet.append(lineArr)\n",
    "        trainingLabels.append(float(row[11]))\n",
    "    \n",
    "    trainWeights = stocGradAscent1(np.array(trainingSet), trainingLabels, 500)\n",
    "    \n",
    "    # 使用csv模块打开CSV文件并跳过第一行\n",
    "    csvReader = csv.reader(frTest, delimiter=';')\n",
    "    next(csvReader)  # 跳过第一行\n",
    "    testSet = []\n",
    "    testLabels = []\n",
    "    \n",
    "    errorCount = 0\n",
    "    numTestVec = 0.0\n",
    "    for row in csvReader :\n",
    "        numTestVec += 1.0\n",
    "        #lineArr = [float(value) for value in row[:11]]\n",
    "        lineArr = [float(value) for value in row[:11]]\n",
    "        testSet.append(lineArr)\n",
    "        testLabels.append(float(row[11]))\n",
    "        \n",
    "        if int(classifyVector(np.array(lineArr), trainWeights)) != list[int](testLabels):\n",
    "            errorCount += 1\n",
    "            \n",
    "    print(classifyVector(np.array(lineArr), trainWeights))\n",
    "    \n",
    "    errorRate = float(errorCount) / numTestVec\n",
    "    print(\"the error rate of this test is: %f\" % errorRate)\n",
    "    return errorRate\n",
    "\n",
    "'''\n",
    "'''\n",
    "def multiTest():\n",
    "    numTests = 10; errorSum=0.0\n",
    "    for k in range(numTests):\n",
    "        errorSum += colicTest()\n",
    "    print (\"after %d iterations the average error rate is: %f\" % (numTests, errorSum/float(numTests)))\n",
    "    \n",
    "multiTest()\n",
    "'''\n",
    "#针对colicTest()的测试函数\n",
    "if __name__ == '__main__':\n",
    "    colicTest()"
   ],
   "metadata": {
    "collapsed": false,
    "ExecuteTime": {
     "end_time": "2023-10-11T10:18:22.592731200Z",
     "start_time": "2023-10-11T10:18:22.471298500Z"
    }
   },
   "id": "1f6adc9a213a339"
  },
  {
   "cell_type": "code",
   "execution_count": 7,
   "outputs": [
    {
     "name": "stdout",
     "output_type": "stream",
     "text": [
      "[[ 7.4    0.7    0.    ...  0.56   9.4    5.   ]\n",
      " [ 7.8    0.88   0.    ...  0.68   9.8    5.   ]\n",
      " [ 7.8    0.76   0.04  ...  0.65   9.8    5.   ]\n",
      " ...\n",
      " [ 6.3    0.51   0.13  ...  0.75  11.     6.   ]\n",
      " [ 5.9    0.645  0.12  ...  0.71  10.2    5.   ]\n",
      " [ 6.     0.31   0.47  ...  0.66  11.     6.   ]]\n"
     ]
    }
   ],
   "source": [
    "%%script false\n",
    "import pandas as pd\n",
    "data = pd.read_csv('winequality-red.csv',sep=';')\n",
    "import numpy as np\n",
    "data = np.array(data)\n",
    "print(data)"
   ],
   "metadata": {
    "collapsed": false,
    "ExecuteTime": {
     "end_time": "2023-10-11T10:31:12.834117400Z",
     "start_time": "2023-10-11T10:31:12.779768200Z"
    }
   },
   "id": "c8b11c3034446542"
  },
  {
   "cell_type": "code",
   "execution_count": null,
   "outputs": [],
   "source": [
    "#Logistic Regression实现winequality-red.csv的分类,不使用sklearn,把每个标签和其他标签分开，看成二分类问题：1和其他，2和其他，3和其他\n",
    "#定义sigmoid函数\n",
    "%%script false\n",
    "def sigmoid(z):\n",
    "    return 1 / (1 + np.exp(-z))\n",
    "#定义损失函数\n",
    "def cost(h, y):\n",
    "    return (-y * np.log(h) - (1 - y) * np.log(1 - h)).mean()\n",
    "#定义改进的随机梯度下降算法\n",
    "def logistic_regression(X, y, w, b, learning_rate, num_iterations):\n",
    "    m = len(X)\n",
    "    for i in range(num_iterations):\n",
    "        z = np.dot(X, w) + b\n",
    "        h = sigmoid(z)\n",
    "        gradient_w = np.dot(X.T, (h - y)) / m\n",
    "        gradient_b = np.sum(h - y) / m\n",
    "        w -= learning_rate * gradient_w\n",
    "        b -= learning_rate * gradient_b\n",
    "        if(i % 100 == 0):\n",
    "            z = np.dot(X, w) + b\n",
    "            h = sigmoid(z)\n",
    "            print('loss: {} \\t'.format(cost(h, y)))\n",
    "    return w, b\n",
    "\n",
    "#导入数据并划分训练集和测试集\n",
    "data = pd.read_csv('winequality-red.csv',sep=';')\n",
    "#按1:4划分训练集和测试集\n",
    "train_data = data.sample(frac=0.8, random_state=0)\n",
    "test_data = data.drop(train_data.index)\n",
    "#将训练集和测试集分为特征和标签\n",
    "train_features = train_data.iloc[:,:11]\n",
    "train_labels = train_data.iloc[:,11]\n",
    "test_features = test_data.iloc[:,:11]\n",
    "test_labels = test_data.iloc[:,11]\n",
    "#将标签转换为数字类型\n",
    "train_labels = train_labels.astype(float)\n",
    "test_labels = test_labels.astype(float)\n",
    "#将特征转换为矩阵形式\n",
    "train_features = np.array(train_features)\n",
    "test_features = np.array(test_features)\n"
   ],
   "metadata": {
    "collapsed": false
   },
   "id": "5cdbf16a43e99422"
  }
 ],
 "metadata": {
  "kernelspec": {
   "display_name": "Python 3",
   "language": "python",
   "name": "python3"
  },
  "language_info": {
   "codemirror_mode": {
    "name": "ipython",
    "version": 2
   },
   "file_extension": ".py",
   "mimetype": "text/x-python",
   "name": "python",
   "nbconvert_exporter": "python",
   "pygments_lexer": "ipython2",
   "version": "2.7.6"
  }
 },
 "nbformat": 4,
 "nbformat_minor": 5
}
